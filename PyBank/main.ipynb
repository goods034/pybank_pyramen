{
 "cells": [
  {
   "cell_type": "code",
   "execution_count": 12,
   "id": "0bb42b1f-b311-4e3a-aa0c-4fda3b1914dd",
   "metadata": {},
   "outputs": [
    {
     "name": "stdout",
     "output_type": "stream",
     "text": [
      "Feb-2012\n",
      "1170593\n",
      "Sep-2013\n",
      "-1196225\n",
      "86\n",
      "38382578\n",
      "-2315.1176470588234\n"
     ]
    }
   ],
   "source": [
    "# Import the necessary libraries for reading the budget_data csv file\n",
    "import os \n",
    "import csv\n",
    "from statistics import mean\n",
    "\n",
    "#variables\n",
    "total_months = int(0)\n",
    "total_value = int(0)\n",
    "max_increase_in_profits_value = int(0)\n",
    "max_increase_in_profits_month = ''\n",
    "max_decrease_in_profits_value = int(0)\n",
    "max_decrease_in_profits_month = ''\n",
    "average_change = int(0)\n",
    "value_of_previous_month = int(0)\n",
    "value_of_current_month = int(0)\n",
    "all_values = int(0)\n",
    "#dictionaries\n",
    "budget_data = {}\n",
    "\n",
    "#lists\n",
    "budget_data_changes = []\n",
    "\n",
    "# generate the csv file path\n",
    "csv_file_path = os.path.join(\"budget_data.csv\")\n",
    "\n",
    "#open the csv file \n",
    "with open(csv_file_path, newline=\"\") as csvfile:\n",
    "    \n",
    "    csvreader = csv.reader(csvfile, delimiter=\",\")\n",
    "    \n",
    "    csv_header = next(csvreader)\n",
    "\n",
    "#Iterate through each row in the csv file\n",
    "    for row in csvreader:\n",
    "        if total_months > 0: \n",
    "            value_of_current_month = int(row[1])\n",
    "            change = value_of_current_month - value_of_previous_month  \n",
    "            budget_data_changes.append(change)\n",
    "        total_months += 1\n",
    "        value_of_previous_month = int(row[1])\n",
    "        total_value += int(row[1])\n",
    "        budget_data[row[0]] = int(row[1])\n",
    "    \n",
    "    \n",
    "average_change = mean(budget_data_changes)\n",
    "all_values = budget_data.values()\n",
    "    \n",
    "max_increase_in_profits_month = max(budget_data, key=budget_data.get)\n",
    "print(max_increase_in_profits_month)\n",
    "    \n",
    "max_increase_in_profits_value = max(all_values)\n",
    "print(max_increase_in_profits_value)\n",
    "    \n",
    "max_decrease_in_profits_month = min(budget_data, key=budget_data.get)\n",
    "print(max_decrease_in_profits_month)\n",
    "max_decrease_in_profits_value = min(all_values)\n",
    "print(max_decrease_in_profits_value)\n",
    "print(total_months)\n",
    "print(total_value)\n",
    "print(average_change)\n",
    "\n",
    "with open('Financial_Analysis', 'w') as f:\n",
    "    f.write('Financial_Analysis')\n",
    "        \n"
   ]
  }
 ],
 "metadata": {
  "kernelspec": {
   "display_name": "Python 3 (ipykernel)",
   "language": "python",
   "name": "python3"
  },
  "language_info": {
   "codemirror_mode": {
    "name": "ipython",
    "version": 3
   },
   "file_extension": ".py",
   "mimetype": "text/x-python",
   "name": "python",
   "nbconvert_exporter": "python",
   "pygments_lexer": "ipython3",
   "version": "3.9.7"
  }
 },
 "nbformat": 4,
 "nbformat_minor": 5
}
