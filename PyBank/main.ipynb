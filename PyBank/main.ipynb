{
 "cells": [
  {
   "cell_type": "code",
   "execution_count": 8,
   "id": "0bb42b1f-b311-4e3a-aa0c-4fda3b1914dd",
   "metadata": {},
   "outputs": [],
   "source": [
    "# Import the necessary libraries for reading the budget_data csv file\n",
    "import os \n",
    "import csv\n",
    "\n",
    "#variables\n",
    "total_months = int(0)\n",
    "\n",
    "#dictionaries\n",
    "budget_data = {}\n",
    "\n",
    "#lists\n",
    "\n",
    "\n",
    "# generate the csv file path\n",
    "csv_file_path = os.path.join(\"budget_data.csv\")\n",
    "\n",
    "#open the csv file \n",
    "with open(csv_file_path, newline=\"\") as csvfile:\n",
    "    csvreader = csv.reader(csvfile, delimiter=\",\")\n",
    "\n"
   ]
  },
  {
   "cell_type": "code",
   "execution_count": null,
   "id": "4f0997c3-21ac-464c-9044-c28265512439",
   "metadata": {},
   "outputs": [],
   "source": []
  }
 ],
 "metadata": {
  "kernelspec": {
   "display_name": "Python 3 (ipykernel)",
   "language": "python",
   "name": "python3"
  },
  "language_info": {
   "codemirror_mode": {
    "name": "ipython",
    "version": 3
   },
   "file_extension": ".py",
   "mimetype": "text/x-python",
   "name": "python",
   "nbconvert_exporter": "python",
   "pygments_lexer": "ipython3",
   "version": "3.9.7"
  }
 },
 "nbformat": 4,
 "nbformat_minor": 5
}
